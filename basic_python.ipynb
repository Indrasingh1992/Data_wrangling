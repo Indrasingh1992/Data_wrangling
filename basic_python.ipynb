{
 "cells": [
  {
   "cell_type": "code",
   "execution_count": 1,
   "metadata": {},
   "outputs": [
    {
     "name": "stdout",
     "output_type": "stream",
     "text": [
      "['Hello', 'World!']\n",
      "['Hello', 'World!']\n"
     ]
    }
   ],
   "source": [
    "# splitting a string \"literal\" and then printing the result\n",
    "split_world = \"Hello World!\".split()\n",
    "print(split_world)\n",
    "# assigning a string to a variable\n",
    "# then printing the result of calling the `split()` method on it\n",
    "world_msg = \"Hello World!\"\n",
    "print(world_msg.split())\n",
    "\n"
   ]
  },
  {
   "cell_type": "code",
   "execution_count": 3,
   "metadata": {},
   "outputs": [
    {
     "ename": "NameError",
     "evalue": "name 'split' is not defined",
     "output_type": "error",
     "traceback": [
      "\u001b[1;31m---------------------------------------------------------------------------\u001b[0m",
      "\u001b[1;31mNameError\u001b[0m                                 Traceback (most recent call last)",
      "Cell \u001b[1;32mIn[3], line 3\u001b[0m\n\u001b[0;32m      1\u001b[0m \u001b[38;5;66;03m# the following will produce an error because\u001b[39;00m\n\u001b[0;32m      2\u001b[0m \u001b[38;5;66;03m# the `split()` method must be called on a string in order to work!\u001b[39;00m\n\u001b[1;32m----> 3\u001b[0m \u001b[43msplit\u001b[49m(\u001b[38;5;124m\"\u001b[39m\u001b[38;5;124mHello World!\u001b[39m\u001b[38;5;124m\"\u001b[39m)\n",
      "\u001b[1;31mNameError\u001b[0m: name 'split' is not defined"
     ]
    }
   ],
   "source": [
    "# the following will produce an error because\n",
    "# the `split()` method must be called on a string in order to work!\n",
    "split(\"Hello World!\")\n"
   ]
  },
  {
   "cell_type": "code",
   "execution_count": 4,
   "metadata": {},
   "outputs": [
    {
     "ename": "SyntaxError",
     "evalue": "invalid decimal literal (1662672842.py, line 3)",
     "output_type": "error",
     "traceback": [
      "\u001b[1;36m  Cell \u001b[1;32mIn[4], line 3\u001b[1;36m\u001b[0m\n\u001b[1;33m    print(5.split())\u001b[0m\n\u001b[1;37m           ^\u001b[0m\n\u001b[1;31mSyntaxError\u001b[0m\u001b[1;31m:\u001b[0m invalid decimal literal\n"
     ]
    }
   ],
   "source": [
    "# the following will produce an error because\n",
    "# there is no `split()` method for numbers!\n",
    "print(5.split())"
   ]
  },
  {
   "cell_type": "code",
   "execution_count": 5,
   "metadata": {},
   "outputs": [
    {
     "name": "stdout",
     "output_type": "stream",
     "text": [
      "Hello Susan E. McGregor\n",
      "Hello Jeff Bleiel\n"
     ]
    }
   ],
   "source": [
    "# Example 2-6. basic_greeting.py\n",
    "# create a variable named author\n",
    "author = \"Susan E. McGregor\"\n",
    "# create another variable named editor\n",
    "editor  = \"Jeff Bleiel\"\n",
    "# use the built-in print function to output \"Hello\" messages to each person\n",
    "print(\"Hello \"+author)\n",
    "print(\"Hello \"+editor)"
   ]
  },
  {
   "cell_type": "code",
   "execution_count": 6,
   "metadata": {},
   "outputs": [
    {
     "name": "stdout",
     "output_type": "stream",
     "text": [
      "Hello Susan E. McGregor\n",
      "Hello Jeff Bleiel\n"
     ]
    }
   ],
   "source": [
    "# create a function that prints out a greeting\n",
    "# to any name passed to the function\n",
    "def greet_me(a_name):\n",
    "    print(\"Hello \"+a_name)\n",
    "# create a variable named author\n",
    "author = \"Susan E. McGregor\"\n",
    "# create another variable named editor\n",
    "editor  = \"Jeff Bleiel\"\n",
    "# use my custom function, `greet_me` to output \"Hello\" messages to each person\n",
    "greet_me(author)\n",
    "greet_me(editor)"
   ]
  },
  {
   "cell_type": "code",
   "execution_count": 7,
   "metadata": {},
   "outputs": [
    {
     "name": "stdout",
     "output_type": "stream",
     "text": [
      "291\n"
     ]
    }
   ],
   "source": [
    "# Loops \n",
    "# fictional list of chapter page counts\n",
    "page_counts = [28, 32, 44, 23, 56, 32, 12, 34, 30]\n",
    "# variable for tracking total page count; starting value is 0\n",
    "total_pages = 0\n",
    "# for every item in the list, perform some action\n",
    "for a_number in page_counts:\n",
    "# in this case, add the number to our \"total_pages\" variable\n",
    "    total_pages = total_pages + a_number\n",
    "print(total_pages)"
   ]
  },
  {
   "cell_type": "code",
   "execution_count": 8,
   "metadata": {},
   "outputs": [
    {
     "name": "stdout",
     "output_type": "stream",
     "text": [
      "Top of loop!\n",
      "The current item is:\n",
      "28\n",
      "The running total is:\n",
      "28\n",
      "Bottom of loop!\n",
      "Top of loop!\n",
      "The current item is:\n",
      "32\n",
      "The running total is:\n",
      "60\n",
      "Bottom of loop!\n",
      "Top of loop!\n",
      "The current item is:\n",
      "44\n",
      "The running total is:\n",
      "104\n",
      "Bottom of loop!\n",
      "Top of loop!\n",
      "The current item is:\n",
      "23\n",
      "The running total is:\n",
      "127\n",
      "Bottom of loop!\n",
      "Top of loop!\n",
      "The current item is:\n",
      "56\n",
      "The running total is:\n",
      "183\n",
      "Bottom of loop!\n",
      "Top of loop!\n",
      "The current item is:\n",
      "32\n",
      "The running total is:\n",
      "215\n",
      "Bottom of loop!\n",
      "Top of loop!\n",
      "The current item is:\n",
      "12\n",
      "The running total is:\n",
      "227\n",
      "Bottom of loop!\n",
      "Top of loop!\n",
      "The current item is:\n",
      "34\n",
      "The running total is:\n",
      "261\n",
      "Bottom of loop!\n",
      "Top of loop!\n",
      "The current item is:\n",
      "30\n",
      "The running total is:\n",
      "291\n",
      "Bottom of loop!\n",
      "291\n"
     ]
    }
   ],
   "source": [
    "page_counts = [28, 32, 44, 23, 56, 32, 12, 34, 30]\n",
    "# variable for tracking total page count; starting value is 0\n",
    "total_pages = 0\n",
    "# for every item in the list, perform some action\n",
    "for a_number in page_counts:\n",
    "    print(\"Top of loop!\")\n",
    "    print(\"The current item is:\")\n",
    "    print(a_number)\n",
    "    total_pages = total_pages + a_number\n",
    "    print(\"The running total is:\")\n",
    "    print(total_pages)\n",
    "    print(\"Bottom of loop!\")\n",
    "print(total_pages)"
   ]
  },
  {
   "cell_type": "code",
   "execution_count": 9,
   "metadata": {},
   "outputs": [
    {
     "name": "stdout",
     "output_type": "stream",
     "text": [
      "291\n"
     ]
    }
   ],
   "source": [
    "# fictional list of chapter page counts\n",
    "page_counts = [28, 32, 44, 23, 56, 32, 12, 34, 30]\n",
    "# `print()` the result of using the `sum()` function on the list \n",
    "print(sum(page_counts))"
   ]
  },
  {
   "cell_type": "code",
   "execution_count": 10,
   "metadata": {},
   "outputs": [
    {
     "name": "stdout",
     "output_type": "stream",
     "text": [
      "291\n",
      "Number of chapters over 30 pages:\n",
      "5\n",
      "Number of chapters under 30 pages:\n",
      "4\n"
     ]
    }
   ],
   "source": [
    "# fictional list of chapter page counts\n",
    "page_counts = [28, 32, 44, 23, 56, 32, 12, 34, 30]\n",
    "# create variables to keep track of:\n",
    "# the total pages in the book\n",
    "total_pages = 0\n",
    "# the number of chapters with more than 30 pages,\n",
    "under_30 = 0\n",
    "# the number of chapters with fewer than 30 pages\n",
    "over_30 = 0\n",
    "# for every item in the page_counts list:\n",
    "for a_number in page_counts:\n",
    "    # add the current number of pages to our total_pages count\n",
    "    total_pages = total_pages + a_number\n",
    "    # check if the current number of pages is more than 30\n",
    "    if a_number > 30:\n",
    "        # if so, add 1 to our over_30 counter\n",
    "        over_30 = over_30 + 1\n",
    "    # otherwise...\n",
    "    else:\n",
    "        # add 1 to our under_30 counter\n",
    "        under_30 = under_30 + 1\n",
    "# print our various results\n",
    "print(total_pages)\n",
    "print(\"Number of chapters over 30 pages:\")\n",
    "print(over_30)\n",
    "print(\"Number of chapters under 30 pages:\")\n",
    "print(under_30)"
   ]
  },
  {
   "cell_type": "code",
   "execution_count": null,
   "metadata": {},
   "outputs": [],
   "source": []
  }
 ],
 "metadata": {
  "kernelspec": {
   "display_name": "Python 3",
   "language": "python",
   "name": "python3"
  },
  "language_info": {
   "codemirror_mode": {
    "name": "ipython",
    "version": 3
   },
   "file_extension": ".py",
   "mimetype": "text/x-python",
   "name": "python",
   "nbconvert_exporter": "python",
   "pygments_lexer": "ipython3",
   "version": "3.11.5"
  }
 },
 "nbformat": 4,
 "nbformat_minor": 2
}
