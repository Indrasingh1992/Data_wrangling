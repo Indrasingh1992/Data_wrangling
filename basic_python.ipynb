{
 "cells": [
  {
   "cell_type": "code",
   "execution_count": 1,
   "metadata": {},
   "outputs": [
    {
     "name": "stdout",
     "output_type": "stream",
     "text": [
      "['Hello', 'World!']\n",
      "['Hello', 'World!']\n"
     ]
    }
   ],
   "source": [
    "# splitting a string \"literal\" and then printing the result\n",
    "split_world = \"Hello World!\".split()\n",
    "print(split_world)\n",
    "# assigning a string to a variable\n",
    "# then printing the result of calling the `split()` method on it\n",
    "world_msg = \"Hello World!\"\n",
    "print(world_msg.split())\n",
    "\n"
   ]
  },
  {
   "cell_type": "code",
   "execution_count": 3,
   "metadata": {},
   "outputs": [
    {
     "ename": "NameError",
     "evalue": "name 'split' is not defined",
     "output_type": "error",
     "traceback": [
      "\u001b[1;31m---------------------------------------------------------------------------\u001b[0m",
      "\u001b[1;31mNameError\u001b[0m                                 Traceback (most recent call last)",
      "Cell \u001b[1;32mIn[3], line 3\u001b[0m\n\u001b[0;32m      1\u001b[0m \u001b[38;5;66;03m# the following will produce an error because\u001b[39;00m\n\u001b[0;32m      2\u001b[0m \u001b[38;5;66;03m# the `split()` method must be called on a string in order to work!\u001b[39;00m\n\u001b[1;32m----> 3\u001b[0m \u001b[43msplit\u001b[49m(\u001b[38;5;124m\"\u001b[39m\u001b[38;5;124mHello World!\u001b[39m\u001b[38;5;124m\"\u001b[39m)\n",
      "\u001b[1;31mNameError\u001b[0m: name 'split' is not defined"
     ]
    }
   ],
   "source": [
    "# the following will produce an error because\n",
    "# the `split()` method must be called on a string in order to work!\n",
    "split(\"Hello World!\")\n"
   ]
  },
  {
   "cell_type": "code",
   "execution_count": 4,
   "metadata": {},
   "outputs": [
    {
     "ename": "SyntaxError",
     "evalue": "invalid decimal literal (1662672842.py, line 3)",
     "output_type": "error",
     "traceback": [
      "\u001b[1;36m  Cell \u001b[1;32mIn[4], line 3\u001b[1;36m\u001b[0m\n\u001b[1;33m    print(5.split())\u001b[0m\n\u001b[1;37m           ^\u001b[0m\n\u001b[1;31mSyntaxError\u001b[0m\u001b[1;31m:\u001b[0m invalid decimal literal\n"
     ]
    }
   ],
   "source": [
    "# the following will produce an error because\n",
    "# there is no `split()` method for numbers!\n",
    "print(5.split())"
   ]
  },
  {
   "cell_type": "code",
   "execution_count": 5,
   "metadata": {},
   "outputs": [
    {
     "name": "stdout",
     "output_type": "stream",
     "text": [
      "Hello Susan E. McGregor\n",
      "Hello Jeff Bleiel\n"
     ]
    }
   ],
   "source": [
    "# Example 2-6. basic_greeting.py\n",
    "# create a variable named author\n",
    "author = \"Susan E. McGregor\"\n",
    "# create another variable named editor\n",
    "editor  = \"Jeff Bleiel\"\n",
    "# use the built-in print function to output \"Hello\" messages to each person\n",
    "print(\"Hello \"+author)\n",
    "print(\"Hello \"+editor)"
   ]
  },
  {
   "cell_type": "code",
   "execution_count": 6,
   "metadata": {},
   "outputs": [
    {
     "name": "stdout",
     "output_type": "stream",
     "text": [
      "Hello Susan E. McGregor\n",
      "Hello Jeff Bleiel\n"
     ]
    }
   ],
   "source": [
    "# create a function that prints out a greeting\n",
    "# to any name passed to the function\n",
    "def greet_me(a_name):\n",
    "    print(\"Hello \"+a_name)\n",
    "# create a variable named author\n",
    "author = \"Susan E. McGregor\"\n",
    "# create another variable named editor\n",
    "editor  = \"Jeff Bleiel\"\n",
    "# use my custom function, `greet_me` to output \"Hello\" messages to each person\n",
    "greet_me(author)\n",
    "greet_me(editor)"
   ]
  },
  {
   "cell_type": "code",
   "execution_count": 7,
   "metadata": {},
   "outputs": [
    {
     "name": "stdout",
     "output_type": "stream",
     "text": [
      "291\n"
     ]
    }
   ],
   "source": [
    "# Loops \n",
    "# fictional list of chapter page counts\n",
    "page_counts = [28, 32, 44, 23, 56, 32, 12, 34, 30]\n",
    "# variable for tracking total page count; starting value is 0\n",
    "total_pages = 0\n",
    "# for every item in the list, perform some action\n",
    "for a_number in page_counts:\n",
    "# in this case, add the number to our \"total_pages\" variable\n",
    "    total_pages = total_pages + a_number\n",
    "print(total_pages)"
   ]
  },
  {
   "cell_type": "code",
   "execution_count": 8,
   "metadata": {},
   "outputs": [
    {
     "name": "stdout",
     "output_type": "stream",
     "text": [
      "Top of loop!\n",
      "The current item is:\n",
      "28\n",
      "The running total is:\n",
      "28\n",
      "Bottom of loop!\n",
      "Top of loop!\n",
      "The current item is:\n",
      "32\n",
      "The running total is:\n",
      "60\n",
      "Bottom of loop!\n",
      "Top of loop!\n",
      "The current item is:\n",
      "44\n",
      "The running total is:\n",
      "104\n",
      "Bottom of loop!\n",
      "Top of loop!\n",
      "The current item is:\n",
      "23\n",
      "The running total is:\n",
      "127\n",
      "Bottom of loop!\n",
      "Top of loop!\n",
      "The current item is:\n",
      "56\n",
      "The running total is:\n",
      "183\n",
      "Bottom of loop!\n",
      "Top of loop!\n",
      "The current item is:\n",
      "32\n",
      "The running total is:\n",
      "215\n",
      "Bottom of loop!\n",
      "Top of loop!\n",
      "The current item is:\n",
      "12\n",
      "The running total is:\n",
      "227\n",
      "Bottom of loop!\n",
      "Top of loop!\n",
      "The current item is:\n",
      "34\n",
      "The running total is:\n",
      "261\n",
      "Bottom of loop!\n",
      "Top of loop!\n",
      "The current item is:\n",
      "30\n",
      "The running total is:\n",
      "291\n",
      "Bottom of loop!\n",
      "291\n"
     ]
    }
   ],
   "source": [
    "page_counts = [28, 32, 44, 23, 56, 32, 12, 34, 30]\n",
    "# variable for tracking total page count; starting value is 0\n",
    "total_pages = 0\n",
    "# for every item in the list, perform some action\n",
    "for a_number in page_counts:\n",
    "    print(\"Top of loop!\")\n",
    "    print(\"The current item is:\")\n",
    "    print(a_number)\n",
    "    total_pages = total_pages + a_number\n",
    "    print(\"The running total is:\")\n",
    "    print(total_pages)\n",
    "    print(\"Bottom of loop!\")\n",
    "print(total_pages)"
   ]
  },
  {
   "cell_type": "code",
   "execution_count": 9,
   "metadata": {},
   "outputs": [
    {
     "name": "stdout",
     "output_type": "stream",
     "text": [
      "291\n"
     ]
    }
   ],
   "source": [
    "# fictional list of chapter page counts\n",
    "page_counts = [28, 32, 44, 23, 56, 32, 12, 34, 30]\n",
    "# `print()` the result of using the `sum()` function on the list \n",
    "print(sum(page_counts))"
   ]
  },
  {
   "cell_type": "markdown",
   "metadata": {},
   "source": [
    "1. We can “wrap” our existing code into a new function (here called count_\n",
    "pages()) by indenting one tab and adding the function definition line. <br>\n",
    "2. We have to match the name of the list variable the for loop references to\n",
    "the parameter name provided between the round parentheses in the function\n",
    "definition in. <br>\n",
    "3. A function does not do anything until it is actually called or executed. At this\n",
    "point, we need to"
   ]
  },
  {
   "cell_type": "code",
   "execution_count": 10,
   "metadata": {},
   "outputs": [
    {
     "name": "stdout",
     "output_type": "stream",
     "text": [
      "291\n",
      "Number of chapters over 30 pages:\n",
      "5\n",
      "Number of chapters under 30 pages:\n",
      "4\n"
     ]
    }
   ],
   "source": [
    "# fictional list of chapter page counts\n",
    "page_counts = [28, 32, 44, 23, 56, 32, 12, 34, 30]\n",
    "# create variables to keep track of:\n",
    "# the total pages in the book\n",
    "total_pages = 0\n",
    "# the number of chapters with more than 30 pages,\n",
    "under_30 = 0\n",
    "# the number of chapters with fewer than 30 pages\n",
    "over_30 = 0\n",
    "# for every item in the page_counts list:\n",
    "for a_number in page_counts:\n",
    "    # add the current number of pages to our total_pages count\n",
    "    total_pages = total_pages + a_number\n",
    "    # check if the current number of pages is more than 30\n",
    "    if a_number > 30:\n",
    "        # if so, add 1 to our over_30 counter\n",
    "        over_30 = over_30 + 1\n",
    "    # otherwise...\n",
    "    else:\n",
    "        # add 1 to our under_30 counter\n",
    "        under_30 = under_30 + 1\n",
    "# print our various results\n",
    "print(total_pages)\n",
    "print(\"Number of chapters over 30 pages:\")\n",
    "print(over_30)\n",
    "print(\"Number of chapters under 30 pages:\")\n",
    "print(under_30)"
   ]
  },
  {
   "cell_type": "code",
   "execution_count": 1,
   "metadata": {},
   "outputs": [
    {
     "name": "stdout",
     "output_type": "stream",
     "text": [
      "291\n",
      "Number of chapters over 30 pages:\n",
      "5\n",
      "Number of chapters under 30 pages:\n",
      "4\n"
     ]
    }
   ],
   "source": [
    "# Example 2-12. page_count_custom_function.py\n",
    " # fictional list of chapter page counts\n",
    "page_counts = [28, 32, 44, 23, 56, 32, 12, 34, 30]\n",
    "# define a new `count_pages()` function that takes one ingredient/argument:\n",
    "# a list of numbers\n",
    "def count_pages(page_count_list):     #1\n",
    "    # create variables to keep track of:\n",
    "    # the total pages in the book\n",
    "    total_pages = 0\n",
    "    # the number of chapters with more than 30 pages,\n",
    "    under_30 = 0\n",
    "    # the number of chapters with fewer than 30 pages\n",
    "    over_30 = 0\n",
    "    # for every item in the page_count_list:\n",
    "    for a_number in page_count_list:     #2\n",
    "        # add the current number of pages to our total_pages count\n",
    "        total_pages = total_pages + a_number\n",
    "        # check if the current number of pages is more than 30\n",
    "        if a_number > 30:\n",
    "            # if so, add 1 to our over_30 counter\n",
    "            over_30 = over_30 + 1\n",
    "        # otherwise...\n",
    "        else:\n",
    "            # add 1 to our under_30 counter\n",
    "            under_30 = under_30 + 1\n",
    "    # print our various results\n",
    "    print(total_pages)\n",
    "    print(\"Number of chapters over 30 pages:\")\n",
    "    print(over_30)\n",
    "    print(\"Number of chapters under 30 pages:\")\n",
    "    print(under_30)\n",
    "    # call/execute this \"recipe\", being sure to pass in our\n",
    "    # actual list as an argument/ingredient\n",
    "count_pages(page_counts)    #3"
   ]
  },
  {
   "cell_type": "code",
   "execution_count": 2,
   "metadata": {},
   "outputs": [
    {
     "ename": "SyntaxError",
     "evalue": "invalid syntax (1849979149.py, line 6)",
     "output_type": "error",
     "traceback": [
      "\u001b[1;36m  Cell \u001b[1;32mIn[2], line 6\u001b[1;36m\u001b[0m\n\u001b[1;33m    \"author\": \"Susan E. McGregor\"\u001b[0m\n\u001b[1;37m            ^\u001b[0m\n\u001b[1;31mSyntaxError\u001b[0m\u001b[1;31m:\u001b[0m invalid syntax\n"
     ]
    }
   ],
   "source": [
    "#  Example 2-13. Introducing an error\n",
    " # although the actual error is on line 4 (missing comma)\n",
    " # the error message points to line 5\n",
    "book = {\"title\":\"Practical Python for Data Wrangling and Data Quality\",\n",
    "\"format\": \"book\"\n",
    "\"author\": \"Susan E. McGregor\"\n",
    " }"
   ]
  },
  {
   "cell_type": "code",
   "execution_count": 4,
   "metadata": {},
   "outputs": [
    {
     "ename": "NameError",
     "evalue": "name 'A_name' is not defined",
     "output_type": "error",
     "traceback": [
      "\u001b[1;31m---------------------------------------------------------------------------\u001b[0m",
      "\u001b[1;31mNameError\u001b[0m                                 Traceback (most recent call last)",
      "Cell \u001b[1;32mIn[4], line 8\u001b[0m\n\u001b[0;32m      6\u001b[0m author \u001b[38;5;241m=\u001b[39m \u001b[38;5;124m\"\u001b[39m\u001b[38;5;124mSusan E. McGregor\u001b[39m\u001b[38;5;124m\"\u001b[39m\n\u001b[0;32m      7\u001b[0m \u001b[38;5;66;03m# pass my `author` variable as the \"ingredient\" to the `greet_me` function\u001b[39;00m\n\u001b[1;32m----> 8\u001b[0m \u001b[43mgreet_me\u001b[49m\u001b[43m(\u001b[49m\u001b[43mauthor\u001b[49m\u001b[43m)\u001b[49m\n",
      "Cell \u001b[1;32mIn[4], line 4\u001b[0m, in \u001b[0;36mgreet_me\u001b[1;34m(a_name)\u001b[0m\n\u001b[0;32m      3\u001b[0m \u001b[38;5;28;01mdef\u001b[39;00m \u001b[38;5;21mgreet_me\u001b[39m(a_name):\n\u001b[1;32m----> 4\u001b[0m     \u001b[38;5;28mprint\u001b[39m(\u001b[38;5;124m\"\u001b[39m\u001b[38;5;124mHello \u001b[39m\u001b[38;5;124m\"\u001b[39m\u001b[38;5;241m+\u001b[39m\u001b[43mA_name\u001b[49m)\n",
      "\u001b[1;31mNameError\u001b[0m: name 'A_name' is not defined"
     ]
    }
   ],
   "source": [
    "#  Example 2-14. Slightly mismatched variable names will generate runtime errors\n",
    "# create a function that prints out a greeting to any name passed to the function\n",
    "def greet_me(a_name):\n",
    "    print(\"Hello \"+A_name)\n",
    "# create a variable named author\n",
    "author = \"Susan E. McGregor\"\n",
    "# pass my `author` variable as the \"ingredient\" to the `greet_me` function\n",
    "greet_me(author)"
   ]
  },
  {
   "cell_type": "markdown",
   "metadata": {},
   "source": [
    "Example 2-15. hitting_the_road_with_citibike.py\n",
    "<br> question: How many Citi Bike rides each day are taken by\n",
    "<br> \"subscribers\" versus \"customers\"?\n",
    "<br> answer: Choose a single day of rides to examine.\n",
    "<br> the dataset used for this exercise was generated from the original\n",
    "<br> Citi Bike system data found here: https://s3.amazonaws.com/tripdata/index.html\n",
    "<br> filename: 202009-citibike-tripdata.csv.zip\n",
    "<br> program Outline:\n",
    "<br> 1. read in the data file: 202009CitibikeTripdataExample.csv\n",
    "<br> 2. create variables to count: subscribers, customers, and other\n",
    "<br> 3. for each row in the file:\n",
    "<br> a. If the \"User Type\" is \"Subscriber,\" add 1 to \"subscriber_count\"\n",
    "<br> b. If the \"User Type\" is \"Customer,\" add 1 to \"customer_count\"\n",
    "<br> c. Otherwise, add 1 to the \"other\" variable\n",
    "<br> 4. print out my results"
   ]
  },
  {
   "cell_type": "code",
   "execution_count": 4,
   "metadata": {},
   "outputs": [
    {
     "name": "stdout",
     "output_type": "stream",
     "text": [
      "['tripduration', 'starttime', 'stoptime', 'start station id', 'start station name', 'start station latitude', 'start station longitude', 'end station id', 'end station name', 'end station latitude', 'end station longitude', 'bikeid', 'usertype', 'birth year', 'gender']\n",
      "Number of subscribers:\n",
      "35284\n",
      "Number of customers:\n",
      "18549\n",
      "Number of 'other' users:\n",
      "0\n"
     ]
    }
   ],
   "source": [
    "# import the `csv` library \n",
    "import csv\n",
    "# open the `202009CitibikeTripdataExample.csv` file in read (\"r\") mode\n",
    "# this file should be in the same folder as our Python script or notebook\n",
    "source_file = open(\"JC-202009-citibike-tripdata.csv\",\"r\")\n",
    "# pass our `source_file` as an ingredient to the `csv` library's\n",
    "# DictReader \"recipe\".\n",
    "# store the result in a variable called `citibike_reader`\n",
    "citibike_reader = csv.DictReader(source_file)\n",
    "# the DictReader method has added some useful information to our data,\n",
    "# like a `fieldnames` property that lets us access all the values\n",
    "# in the first or \"header\" row\n",
    "print(citibike_reader.fieldnames)\n",
    "\n",
    "\n",
    "# create a variable to hold the count of each type of Citi Bike user\n",
    "# assign or \"initialize\" each with a value of zero (0)\n",
    "subscriber_count = 0\n",
    "customer_count = 0\n",
    "other_user_count = 0\n",
    "\n",
    "# step 3: loop through every row of our data\n",
    "for a_row in citibike_reader:\n",
    " # step 3a: if the value in the `usertype` column\n",
    "    if a_row[\"usertype\"] == \"Subscriber\":\n",
    "        # add 1 to `subscriber_count`\n",
    "        subscriber_count = subscriber_count +1\n",
    "        # step 3b: otherwise (else), if the value in the `usertype` column\n",
    "        # of the current row is \"Customer\"\n",
    "    elif a_row[\"usertype\"] == \"Customer\":\n",
    "    # add 1 to `subscriber_count`\n",
    "        customer_count = customer_count + 1\n",
    "        # step 3c: the `usertype` value is _neither_\"Subscriber\" nor \"Customer\",\n",
    "        # so we'll add 1 to our catch-all `other_user_count` variable\n",
    "    else:\n",
    "        other_user_count = other_user_count + 1\n",
    "\n",
    "# step 4: print out our results, being sure to include \"labels\" in the process:\n",
    "print(\"Number of subscribers:\")\n",
    "print(subscriber_count)\n",
    "print(\"Number of customers:\")\n",
    "print(customer_count)\n",
    "print(\"Number of 'other' users:\")\n",
    "print(other_user_count)\n"
   ]
  },
  {
   "cell_type": "markdown",
   "metadata": {},
   "source": [
    "### Understanding Data Quality chapter-3\n",
    "\n",
    "what is data quality?<br>\n",
    "data is high quality only if it is both fit for purpose and has\n",
    "high internal integrity.\n",
    "<br> \n",
    "\n",
    "\n",
    "That first concept—the extent to which a given dataset accurately repre‐\n",
    "sents the phenomenon you’re investigating—is broadly what I mean by its fit, and\n",
    "assessing your dataset’s fitness for purpose is much more about applying informed\n",
    "judgment than it is about applying mathematical formulas. The reason for this is\n",
    "quite simple: the world is a messy place, and what may seem like even the simplest\n",
    "data about it is always filtered through some kind of human lens. Take something as\n",
    "straightforward as measuring the temperature in your workspace over the course of a\n",
    "week. \n",
    "<br>\n",
    "<br>\n",
    "\n",
    "At its most basic, validity describes the extent to which something measures what it\n",
    "is supposed to. Construct validity describes the extent to which your\n",
    "data measurements effectively capture the (usually abstract) construct, or idea, you’re\n",
    "trying to understand. <br>\n",
    "\n",
    "The other type of validity that is important for data fit is content validity. This type\n",
    "of validity has to do with how complete your data is for a given proxy measurement.\n",
    "<br><br>\n",
    "\n",
    "Within a dataset, the reliability of a given measure describes its accuracy and stability.Together, these help us assess whether the same measure taken twice in the same circumstances will give us the same—or at least very similar—results.\n"
   ]
  },
  {
   "cell_type": "markdown",
   "metadata": {},
   "source": [
    "Data Quality has been classified into four different types <br>\n",
    "1. Assessing Data fit:  The extent to which given data set accurately represents the phenomenon we are investigating means data fit. Then assessing data fit is about applying informed judgement than applying mathematical formulas. <br><br>\n",
    "2. Data validity: Extent of measuring what is supposed to be.  Construct validity means extent to which your data measurements are effectively capture. <br><br>\n",
    "3. Reliability: Measurement of data accuracy and stability. <br><br>\n",
    "4. Representativeness: Representativeness of data refers to how well a sample or dataset reflects the population or larger set from which it is drawn. <br><br>\n",
    "5. Assessing Data Integrity: Data integrity is largely about whether the data you have can support the analyses you’ll need to perform in order to answer that question.\n",
    "<br><br><br>\n",
    "\n",
    "\n",
    "Improving Data Quality<br>\n",
    "1. Data Cleaning<br><br>\n",
    "2.Data Auguementation: Augmenting a dataset is the process of expanding or elaborating it, usually by connecting it with other datasets—this is really the nature of “big data” in the 21st century. <br><br>\n",
    "\n"
   ]
  },
  {
   "cell_type": "markdown",
   "metadata": {},
   "source": [
    "# Working with File Based and Feed Based Data in Pyhton: <br>\n",
    "\n",
    "Machine Readable: data in a format that can be easily processed by a computer without human intervention while ensuring no semantic meaning is lost. <br><br>\n",
    "\n",
    "Structured data: is any type of data that has been organized and classified in some\n",
    "way, into some version of records and fields. In file-based formats, these are usually\n",
    "rows and columns; in feed-based formats they are often (essentially) lists of objects or dictionaries.<br><br>\n",
    "Unstructured data: Consist of a mash-up of different data types, combining text, numbers, and even photographs or illustrations. The contents of a magazine or a novel, or the waveforms of a song, for example, would typically be considered unstructured data.<br><br><br>\n",
    "\n",
    "### Working with Structured data <br>\n",
    "1. File-Based, Table-Type Data—Take It to Delimit: s delimited files: each data record is on its own line or row, and the boundaries between fields or columns of data values are indicated—or delimited—by a specific text character they are: .csv, .txt, .ods, .xls(x)\n",
    " "
   ]
  },
  {
   "cell_type": "code",
   "execution_count": 1,
   "metadata": {},
   "outputs": [
    {
     "name": "stdout",
     "output_type": "stream",
     "text": [
      "['tripduration', 'starttime', 'stoptime', 'start station id', 'start station name', 'start station latitude', 'start station longitude', 'end station id', 'end station name', 'end station latitude', 'end station longitude', 'bikeid', 'usertype', 'birth year', 'gender']\n",
      "{'tripduration': '4225', 'starttime': '2020-09-01 00:00:01.0430', 'stoptime': '2020-09-01 01:10:26.6350', 'start station id': '3508', 'start station name': 'St Nicholas Ave & Manhattan Ave', 'start station latitude': '40.809725', 'start station longitude': '-73.953149', 'end station id': '116', 'end station name': 'W 17 St & 8 Ave', 'end station latitude': '40.74177603', 'end station longitude': '-74.00149746', 'bikeid': '44317', 'usertype': 'Customer', 'birth year': '1979', 'gender': '1'}\n",
      "{'tripduration': '1868', 'starttime': '2020-09-01 00:00:04.8320', 'stoptime': '2020-09-01 00:31:13.7650', 'start station id': '3621', 'start station name': '27 Ave & 9 St', 'start station latitude': '40.7739825', 'start station longitude': '-73.9309134', 'end station id': '3094', 'end station name': 'Graham Ave & Withers St', 'end station latitude': '40.7169811', 'end station longitude': '-73.94485918', 'bikeid': '37793', 'usertype': 'Customer', 'birth year': '1991', 'gender': '1'}\n",
      "{'tripduration': '1097', 'starttime': '2020-09-01 00:00:06.8990', 'stoptime': '2020-09-01 00:18:24.2260', 'start station id': '3492', 'start station name': 'E 118 St & Park Ave', 'start station latitude': '40.8005385', 'start station longitude': '-73.9419949', 'end station id': '3959', 'end station name': 'Edgecombe Ave & W 145 St', 'end station latitude': '40.823498', 'end station longitude': '-73.94386', 'bikeid': '41438', 'usertype': 'Subscriber', 'birth year': '1984', 'gender': '1'}\n",
      "{'tripduration': '1473', 'starttime': '2020-09-01 00:00:07.7440', 'stoptime': '2020-09-01 00:24:41.1800', 'start station id': '3946', 'start station name': 'St Nicholas Ave & W 137 St', 'start station latitude': '40.818477', 'start station longitude': '-73.947568', 'end station id': '4002', 'end station name': 'W 144 St & Adam Clayton Powell Blvd', 'end station latitude': '40.820877', 'end station longitude': '-73.939249', 'bikeid': '35860', 'usertype': 'Customer', 'birth year': '1990', 'gender': '2'}\n",
      "{'tripduration': '1193', 'starttime': '2020-09-01 00:00:12.2020', 'stoptime': '2020-09-01 00:20:05.5470', 'start station id': '3081', 'start station name': 'Graham Ave & Grand St', 'start station latitude': '40.711863', 'start station longitude': '-73.944024', 'end station id': '3048', 'end station name': 'Putnam Ave & Nostrand Ave', 'end station latitude': '40.68402', 'end station longitude': '-73.94977', 'bikeid': '26396', 'usertype': 'Customer', 'birth year': '1969', 'gender': '0'}\n"
     ]
    }
   ],
   "source": [
    "# Reading data from CSVs\n",
    "# csv_parsing.py\n",
    "\n",
    "# import the `csv` library\n",
    "import csv\n",
    "# open the `202009CitibikeTripdataExample.csv` file in read (\"r\") mode\n",
    "# this file should be in the same folder as our Python script or notebook\n",
    "source_file = open(\"202009CitibikeTripdataExample.csv\",\"r\")\n",
    "# pass our `source_file` as an ingredient to the `csv` library's\n",
    "# DictReader \"recipe\".\n",
    "# store the result in a variable called `citibike_reader`\n",
    "citibike_reader = csv.DictReader(source_file)\n",
    "# the DictReader method has added some useful information to our data,\n",
    "# like a `fieldnames` property that lets us access all the values\n",
    "# in the first or \"header\" row\n",
    "print(citibike_reader.fieldnames)\n",
    "# let's just print out the first 5 rows\n",
    "for i in range(0,5):\n",
    " print (next(citibike_reader))"
   ]
  },
  {
   "cell_type": "code",
   "execution_count": 3,
   "metadata": {},
   "outputs": [
    {
     "name": "stdout",
     "output_type": "stream",
     "text": [
      "['', 'Justice', 'Term Start/End', 'Party', 'State', 'Pres Appt', 'Other Offices Held', 'Relevant Prosecutorial Background']\n",
      "{'': '40', 'Justice': 'William Strong', 'Term Start/End': '1870-1880', 'Party': 'D/R', 'State': 'PA', 'Pres Appt': 'Grant', 'Other Offices Held': 'US House, Supr Court of PA, elect comm for elec of 1876', 'Relevant Prosecutorial Background': 'lawyer'}\n"
     ]
    }
   ],
   "source": [
    "#Reading data from TSV and TXT files\n",
    "# Example 4-2. tsv_parsing.py\n",
    "\n",
    "# import the `csv` library\n",
    "import csv\n",
    "# open the `ShugermanProsecutorPoliticians-SupremeCourtJustices.tsv` file\n",
    "# in read (\"r\") mode.\n",
    "# this file should be in the same folder as our Python script or notebook\n",
    "tsv_source_file = open(\"ShugermanProsecutorPoliticians-SupremeCourtJustices.tsv\",\"r\")\n",
    "# pass our `tsv_source_file` as an ingredient to the csv library's\n",
    "# DictReader \"recipe.\"\n",
    "# store the result in a variable called `politicians_reader`\n",
    "politicians_reader = csv.DictReader(tsv_source_file, delimiter='\\t')\n",
    "# the DictReader method has added some useful information to our data,\n",
    "# like a `fieldnames` property that lets us access all the values\n",
    "# in the first or \"header\" row\n",
    "print(politicians_reader.fieldnames)\n",
    "# we'll use the `next()` function to print just the first row of data\n",
    "print (next(politicians_reader))\n",
    "\n"
   ]
  },
  {
   "cell_type": "code",
   "execution_count": null,
   "metadata": {},
   "outputs": [],
   "source": []
  }
 ],
 "metadata": {
  "kernelspec": {
   "display_name": "Python 3",
   "language": "python",
   "name": "python3"
  },
  "language_info": {
   "codemirror_mode": {
    "name": "ipython",
    "version": 3
   },
   "file_extension": ".py",
   "mimetype": "text/x-python",
   "name": "python",
   "nbconvert_exporter": "python",
   "pygments_lexer": "ipython3",
   "version": "3.11.5"
  }
 },
 "nbformat": 4,
 "nbformat_minor": 2
}
