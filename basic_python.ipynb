{
 "cells": [
  {
   "cell_type": "code",
   "execution_count": 1,
   "metadata": {},
   "outputs": [
    {
     "name": "stdout",
     "output_type": "stream",
     "text": [
      "['Hello', 'World!']\n",
      "['Hello', 'World!']\n"
     ]
    }
   ],
   "source": [
    "# splitting a string \"literal\" and then printing the result\n",
    "split_world = \"Hello World!\".split()\n",
    "print(split_world)\n",
    "# assigning a string to a variable\n",
    "# then printing the result of calling the `split()` method on it\n",
    "world_msg = \"Hello World!\"\n",
    "print(world_msg.split())\n",
    "\n"
   ]
  },
  {
   "cell_type": "code",
   "execution_count": 3,
   "metadata": {},
   "outputs": [
    {
     "ename": "NameError",
     "evalue": "name 'split' is not defined",
     "output_type": "error",
     "traceback": [
      "\u001b[1;31m---------------------------------------------------------------------------\u001b[0m",
      "\u001b[1;31mNameError\u001b[0m                                 Traceback (most recent call last)",
      "Cell \u001b[1;32mIn[3], line 3\u001b[0m\n\u001b[0;32m      1\u001b[0m \u001b[38;5;66;03m# the following will produce an error because\u001b[39;00m\n\u001b[0;32m      2\u001b[0m \u001b[38;5;66;03m# the `split()` method must be called on a string in order to work!\u001b[39;00m\n\u001b[1;32m----> 3\u001b[0m \u001b[43msplit\u001b[49m(\u001b[38;5;124m\"\u001b[39m\u001b[38;5;124mHello World!\u001b[39m\u001b[38;5;124m\"\u001b[39m)\n",
      "\u001b[1;31mNameError\u001b[0m: name 'split' is not defined"
     ]
    }
   ],
   "source": [
    "# the following will produce an error because\n",
    "# the `split()` method must be called on a string in order to work!\n",
    "split(\"Hello World!\")\n"
   ]
  },
  {
   "cell_type": "code",
   "execution_count": 4,
   "metadata": {},
   "outputs": [
    {
     "ename": "SyntaxError",
     "evalue": "invalid decimal literal (1662672842.py, line 3)",
     "output_type": "error",
     "traceback": [
      "\u001b[1;36m  Cell \u001b[1;32mIn[4], line 3\u001b[1;36m\u001b[0m\n\u001b[1;33m    print(5.split())\u001b[0m\n\u001b[1;37m           ^\u001b[0m\n\u001b[1;31mSyntaxError\u001b[0m\u001b[1;31m:\u001b[0m invalid decimal literal\n"
     ]
    }
   ],
   "source": [
    "# the following will produce an error because\n",
    "# there is no `split()` method for numbers!\n",
    "print(5.split())"
   ]
  },
  {
   "cell_type": "code",
   "execution_count": 5,
   "metadata": {},
   "outputs": [
    {
     "name": "stdout",
     "output_type": "stream",
     "text": [
      "Hello Susan E. McGregor\n",
      "Hello Jeff Bleiel\n"
     ]
    }
   ],
   "source": [
    "# Example 2-6. basic_greeting.py\n",
    "# create a variable named author\n",
    "author = \"Susan E. McGregor\"\n",
    "# create another variable named editor\n",
    "editor  = \"Jeff Bleiel\"\n",
    "# use the built-in print function to output \"Hello\" messages to each person\n",
    "print(\"Hello \"+author)\n",
    "print(\"Hello \"+editor)"
   ]
  },
  {
   "cell_type": "code",
   "execution_count": 6,
   "metadata": {},
   "outputs": [
    {
     "name": "stdout",
     "output_type": "stream",
     "text": [
      "Hello Susan E. McGregor\n",
      "Hello Jeff Bleiel\n"
     ]
    }
   ],
   "source": [
    "# create a function that prints out a greeting\n",
    "# to any name passed to the function\n",
    "def greet_me(a_name):\n",
    "    print(\"Hello \"+a_name)\n",
    "# create a variable named author\n",
    "author = \"Susan E. McGregor\"\n",
    "# create another variable named editor\n",
    "editor  = \"Jeff Bleiel\"\n",
    "# use my custom function, `greet_me` to output \"Hello\" messages to each person\n",
    "greet_me(author)\n",
    "greet_me(editor)"
   ]
  },
  {
   "cell_type": "code",
   "execution_count": 7,
   "metadata": {},
   "outputs": [
    {
     "name": "stdout",
     "output_type": "stream",
     "text": [
      "291\n"
     ]
    }
   ],
   "source": [
    "# Loops \n",
    "# fictional list of chapter page counts\n",
    "page_counts = [28, 32, 44, 23, 56, 32, 12, 34, 30]\n",
    "# variable for tracking total page count; starting value is 0\n",
    "total_pages = 0\n",
    "# for every item in the list, perform some action\n",
    "for a_number in page_counts:\n",
    "# in this case, add the number to our \"total_pages\" variable\n",
    "    total_pages = total_pages + a_number\n",
    "print(total_pages)"
   ]
  },
  {
   "cell_type": "code",
   "execution_count": 8,
   "metadata": {},
   "outputs": [
    {
     "name": "stdout",
     "output_type": "stream",
     "text": [
      "Top of loop!\n",
      "The current item is:\n",
      "28\n",
      "The running total is:\n",
      "28\n",
      "Bottom of loop!\n",
      "Top of loop!\n",
      "The current item is:\n",
      "32\n",
      "The running total is:\n",
      "60\n",
      "Bottom of loop!\n",
      "Top of loop!\n",
      "The current item is:\n",
      "44\n",
      "The running total is:\n",
      "104\n",
      "Bottom of loop!\n",
      "Top of loop!\n",
      "The current item is:\n",
      "23\n",
      "The running total is:\n",
      "127\n",
      "Bottom of loop!\n",
      "Top of loop!\n",
      "The current item is:\n",
      "56\n",
      "The running total is:\n",
      "183\n",
      "Bottom of loop!\n",
      "Top of loop!\n",
      "The current item is:\n",
      "32\n",
      "The running total is:\n",
      "215\n",
      "Bottom of loop!\n",
      "Top of loop!\n",
      "The current item is:\n",
      "12\n",
      "The running total is:\n",
      "227\n",
      "Bottom of loop!\n",
      "Top of loop!\n",
      "The current item is:\n",
      "34\n",
      "The running total is:\n",
      "261\n",
      "Bottom of loop!\n",
      "Top of loop!\n",
      "The current item is:\n",
      "30\n",
      "The running total is:\n",
      "291\n",
      "Bottom of loop!\n",
      "291\n"
     ]
    }
   ],
   "source": [
    "page_counts = [28, 32, 44, 23, 56, 32, 12, 34, 30]\n",
    "# variable for tracking total page count; starting value is 0\n",
    "total_pages = 0\n",
    "# for every item in the list, perform some action\n",
    "for a_number in page_counts:\n",
    "    print(\"Top of loop!\")\n",
    "    print(\"The current item is:\")\n",
    "    print(a_number)\n",
    "    total_pages = total_pages + a_number\n",
    "    print(\"The running total is:\")\n",
    "    print(total_pages)\n",
    "    print(\"Bottom of loop!\")\n",
    "print(total_pages)"
   ]
  },
  {
   "cell_type": "code",
   "execution_count": 9,
   "metadata": {},
   "outputs": [
    {
     "name": "stdout",
     "output_type": "stream",
     "text": [
      "291\n"
     ]
    }
   ],
   "source": [
    "# fictional list of chapter page counts\n",
    "page_counts = [28, 32, 44, 23, 56, 32, 12, 34, 30]\n",
    "# `print()` the result of using the `sum()` function on the list \n",
    "print(sum(page_counts))"
   ]
  },
  {
   "cell_type": "markdown",
   "metadata": {},
   "source": [
    "1. We can “wrap” our existing code into a new function (here called count_\n",
    "pages()) by indenting one tab and adding the function definition line. <br>\n",
    "2. We have to match the name of the list variable the for loop references to\n",
    "the parameter name provided between the round parentheses in the function\n",
    "definition in. <br>\n",
    "3. A function does not do anything until it is actually called or executed. At this\n",
    "point, we need to"
   ]
  },
  {
   "cell_type": "code",
   "execution_count": 10,
   "metadata": {},
   "outputs": [
    {
     "name": "stdout",
     "output_type": "stream",
     "text": [
      "291\n",
      "Number of chapters over 30 pages:\n",
      "5\n",
      "Number of chapters under 30 pages:\n",
      "4\n"
     ]
    }
   ],
   "source": [
    "# fictional list of chapter page counts\n",
    "page_counts = [28, 32, 44, 23, 56, 32, 12, 34, 30]\n",
    "# create variables to keep track of:\n",
    "# the total pages in the book\n",
    "total_pages = 0\n",
    "# the number of chapters with more than 30 pages,\n",
    "under_30 = 0\n",
    "# the number of chapters with fewer than 30 pages\n",
    "over_30 = 0\n",
    "# for every item in the page_counts list:\n",
    "for a_number in page_counts:\n",
    "    # add the current number of pages to our total_pages count\n",
    "    total_pages = total_pages + a_number\n",
    "    # check if the current number of pages is more than 30\n",
    "    if a_number > 30:\n",
    "        # if so, add 1 to our over_30 counter\n",
    "        over_30 = over_30 + 1\n",
    "    # otherwise...\n",
    "    else:\n",
    "        # add 1 to our under_30 counter\n",
    "        under_30 = under_30 + 1\n",
    "# print our various results\n",
    "print(total_pages)\n",
    "print(\"Number of chapters over 30 pages:\")\n",
    "print(over_30)\n",
    "print(\"Number of chapters under 30 pages:\")\n",
    "print(under_30)"
   ]
  },
  {
   "cell_type": "code",
   "execution_count": 1,
   "metadata": {},
   "outputs": [
    {
     "name": "stdout",
     "output_type": "stream",
     "text": [
      "291\n",
      "Number of chapters over 30 pages:\n",
      "5\n",
      "Number of chapters under 30 pages:\n",
      "4\n"
     ]
    }
   ],
   "source": [
    "# Example 2-12. page_count_custom_function.py\n",
    " # fictional list of chapter page counts\n",
    "page_counts = [28, 32, 44, 23, 56, 32, 12, 34, 30]\n",
    "# define a new `count_pages()` function that takes one ingredient/argument:\n",
    "# a list of numbers\n",
    "def count_pages(page_count_list):     #1\n",
    "    # create variables to keep track of:\n",
    "    # the total pages in the book\n",
    "    total_pages = 0\n",
    "    # the number of chapters with more than 30 pages,\n",
    "    under_30 = 0\n",
    "    # the number of chapters with fewer than 30 pages\n",
    "    over_30 = 0\n",
    "    # for every item in the page_count_list:\n",
    "    for a_number in page_count_list:     #2\n",
    "        # add the current number of pages to our total_pages count\n",
    "        total_pages = total_pages + a_number\n",
    "        # check if the current number of pages is more than 30\n",
    "        if a_number > 30:\n",
    "            # if so, add 1 to our over_30 counter\n",
    "            over_30 = over_30 + 1\n",
    "        # otherwise...\n",
    "        else:\n",
    "            # add 1 to our under_30 counter\n",
    "            under_30 = under_30 + 1\n",
    "    # print our various results\n",
    "    print(total_pages)\n",
    "    print(\"Number of chapters over 30 pages:\")\n",
    "    print(over_30)\n",
    "    print(\"Number of chapters under 30 pages:\")\n",
    "    print(under_30)\n",
    "    # call/execute this \"recipe\", being sure to pass in our\n",
    "    # actual list as an argument/ingredient\n",
    "count_pages(page_counts)    #3"
   ]
  },
  {
   "cell_type": "code",
   "execution_count": 2,
   "metadata": {},
   "outputs": [
    {
     "ename": "SyntaxError",
     "evalue": "invalid syntax (1849979149.py, line 6)",
     "output_type": "error",
     "traceback": [
      "\u001b[1;36m  Cell \u001b[1;32mIn[2], line 6\u001b[1;36m\u001b[0m\n\u001b[1;33m    \"author\": \"Susan E. McGregor\"\u001b[0m\n\u001b[1;37m            ^\u001b[0m\n\u001b[1;31mSyntaxError\u001b[0m\u001b[1;31m:\u001b[0m invalid syntax\n"
     ]
    }
   ],
   "source": [
    "#  Example 2-13. Introducing an error\n",
    " # although the actual error is on line 4 (missing comma)\n",
    " # the error message points to line 5\n",
    "book = {\"title\":\"Practical Python for Data Wrangling and Data Quality\",\n",
    "\"format\": \"book\"\n",
    "\"author\": \"Susan E. McGregor\"\n",
    " }"
   ]
  },
  {
   "cell_type": "code",
   "execution_count": 4,
   "metadata": {},
   "outputs": [
    {
     "ename": "NameError",
     "evalue": "name 'A_name' is not defined",
     "output_type": "error",
     "traceback": [
      "\u001b[1;31m---------------------------------------------------------------------------\u001b[0m",
      "\u001b[1;31mNameError\u001b[0m                                 Traceback (most recent call last)",
      "Cell \u001b[1;32mIn[4], line 8\u001b[0m\n\u001b[0;32m      6\u001b[0m author \u001b[38;5;241m=\u001b[39m \u001b[38;5;124m\"\u001b[39m\u001b[38;5;124mSusan E. McGregor\u001b[39m\u001b[38;5;124m\"\u001b[39m\n\u001b[0;32m      7\u001b[0m \u001b[38;5;66;03m# pass my `author` variable as the \"ingredient\" to the `greet_me` function\u001b[39;00m\n\u001b[1;32m----> 8\u001b[0m \u001b[43mgreet_me\u001b[49m\u001b[43m(\u001b[49m\u001b[43mauthor\u001b[49m\u001b[43m)\u001b[49m\n",
      "Cell \u001b[1;32mIn[4], line 4\u001b[0m, in \u001b[0;36mgreet_me\u001b[1;34m(a_name)\u001b[0m\n\u001b[0;32m      3\u001b[0m \u001b[38;5;28;01mdef\u001b[39;00m \u001b[38;5;21mgreet_me\u001b[39m(a_name):\n\u001b[1;32m----> 4\u001b[0m     \u001b[38;5;28mprint\u001b[39m(\u001b[38;5;124m\"\u001b[39m\u001b[38;5;124mHello \u001b[39m\u001b[38;5;124m\"\u001b[39m\u001b[38;5;241m+\u001b[39m\u001b[43mA_name\u001b[49m)\n",
      "\u001b[1;31mNameError\u001b[0m: name 'A_name' is not defined"
     ]
    }
   ],
   "source": [
    "#  Example 2-14. Slightly mismatched variable names will generate runtime errors\n",
    "# create a function that prints out a greeting to any name passed to the function\n",
    "def greet_me(a_name):\n",
    "    print(\"Hello \"+A_name)\n",
    "# create a variable named author\n",
    "author = \"Susan E. McGregor\"\n",
    "# pass my `author` variable as the \"ingredient\" to the `greet_me` function\n",
    "greet_me(author)"
   ]
  },
  {
   "cell_type": "markdown",
   "metadata": {},
   "source": [
    "Example 2-15. hitting_the_road_with_citibike.py\n",
    "<br> question: How many Citi Bike rides each day are taken by\n",
    "<br> \"subscribers\" versus \"customers\"?\n",
    "<br> answer: Choose a single day of rides to examine.\n",
    "<br> the dataset used for this exercise was generated from the original\n",
    "<br> Citi Bike system data found here: https://s3.amazonaws.com/tripdata/index.html\n",
    "<br> filename: 202009-citibike-tripdata.csv.zip\n",
    "<br> program Outline:\n",
    "<br> 1. read in the data file: 202009CitibikeTripdataExample.csv\n",
    "<br> 2. create variables to count: subscribers, customers, and other\n",
    "<br> 3. for each row in the file:\n",
    "<br> a. If the \"User Type\" is \"Subscriber,\" add 1 to \"subscriber_count\"\n",
    "<br> b. If the \"User Type\" is \"Customer,\" add 1 to \"customer_count\"\n",
    "<br> c. Otherwise, add 1 to the \"other\" variable\n",
    "<br> 4. print out my results"
   ]
  },
  {
   "cell_type": "code",
   "execution_count": 4,
   "metadata": {},
   "outputs": [
    {
     "name": "stdout",
     "output_type": "stream",
     "text": [
      "['tripduration', 'starttime', 'stoptime', 'start station id', 'start station name', 'start station latitude', 'start station longitude', 'end station id', 'end station name', 'end station latitude', 'end station longitude', 'bikeid', 'usertype', 'birth year', 'gender']\n",
      "Number of subscribers:\n",
      "35284\n",
      "Number of customers:\n",
      "18549\n",
      "Number of 'other' users:\n",
      "0\n"
     ]
    }
   ],
   "source": [
    "# import the `csv` library \n",
    "import csv\n",
    "# open the `202009CitibikeTripdataExample.csv` file in read (\"r\") mode\n",
    "# this file should be in the same folder as our Python script or notebook\n",
    "source_file = open(\"JC-202009-citibike-tripdata.csv\",\"r\")\n",
    "# pass our `source_file` as an ingredient to the `csv` library's\n",
    "# DictReader \"recipe\".\n",
    "# store the result in a variable called `citibike_reader`\n",
    "citibike_reader = csv.DictReader(source_file)\n",
    "# the DictReader method has added some useful information to our data,\n",
    "# like a `fieldnames` property that lets us access all the values\n",
    "# in the first or \"header\" row\n",
    "print(citibike_reader.fieldnames)\n",
    "\n",
    "\n",
    "# create a variable to hold the count of each type of Citi Bike user\n",
    "# assign or \"initialize\" each with a value of zero (0)\n",
    "subscriber_count = 0\n",
    "customer_count = 0\n",
    "other_user_count = 0\n",
    "\n",
    "# step 3: loop through every row of our data\n",
    "for a_row in citibike_reader:\n",
    " # step 3a: if the value in the `usertype` column\n",
    "    if a_row[\"usertype\"] == \"Subscriber\":\n",
    "        # add 1 to `subscriber_count`\n",
    "        subscriber_count = subscriber_count +1\n",
    "        # step 3b: otherwise (else), if the value in the `usertype` column\n",
    "        # of the current row is \"Customer\"\n",
    "    elif a_row[\"usertype\"] == \"Customer\":\n",
    "    # add 1 to `subscriber_count`\n",
    "        customer_count = customer_count + 1\n",
    "        # step 3c: the `usertype` value is _neither_\"Subscriber\" nor \"Customer\",\n",
    "        # so we'll add 1 to our catch-all `other_user_count` variable\n",
    "    else:\n",
    "        other_user_count = other_user_count + 1\n",
    "\n",
    "# step 4: print out our results, being sure to include \"labels\" in the process:\n",
    "print(\"Number of subscribers:\")\n",
    "print(subscriber_count)\n",
    "print(\"Number of customers:\")\n",
    "print(customer_count)\n",
    "print(\"Number of 'other' users:\")\n",
    "print(other_user_count)\n"
   ]
  },
  {
   "cell_type": "markdown",
   "metadata": {},
   "source": [
    "### Understanding Data Quality chapter-3\n",
    "\n",
    "what is data quality?<br>\n",
    "data is high quality only if it is both fit for purpose and has\n",
    "high internal integrity.\n",
    "<br> \n",
    "\n",
    "\n",
    "That first concept—the extent to which a given dataset accurately repre‐\n",
    "sents the phenomenon you’re investigating—is broadly what I mean by its fit, and\n",
    "assessing your dataset’s fitness for purpose is much more about applying informed\n",
    "judgment than it is about applying mathematical formulas. The reason for this is\n",
    "quite simple: the world is a messy place, and what may seem like even the simplest\n",
    "data about it is always filtered through some kind of human lens. Take something as\n",
    "straightforward as measuring the temperature in your workspace over the course of a\n",
    "week. \n",
    "<br>\n",
    "<br>\n",
    "\n",
    "At its most basic, validity describes the extent to which something measures what it\n",
    "is supposed to. Construct validity describes the extent to which your\n",
    "data measurements effectively capture the (usually abstract) construct, or idea, you’re\n",
    "trying to understand. <br>\n",
    "\n",
    "The other type of validity that is important for data fit is content validity. This type\n",
    "of validity has to do with how complete your data is for a given proxy measurement.\n",
    "<br><br>\n",
    "\n",
    "Within a dataset, the reliability of a given measure describes its accuracy and stability.Together, these help us assess whether the same measure taken twice in the same circumstances will give us the same—or at least very similar—results.\n"
   ]
  },
  {
   "cell_type": "code",
   "execution_count": null,
   "metadata": {},
   "outputs": [],
   "source": []
  },
  {
   "cell_type": "code",
   "execution_count": null,
   "metadata": {},
   "outputs": [],
   "source": []
  }
 ],
 "metadata": {
  "kernelspec": {
   "display_name": "Python 3",
   "language": "python",
   "name": "python3"
  },
  "language_info": {
   "codemirror_mode": {
    "name": "ipython",
    "version": 3
   },
   "file_extension": ".py",
   "mimetype": "text/x-python",
   "name": "python",
   "nbconvert_exporter": "python",
   "pygments_lexer": "ipython3",
   "version": "3.11.5"
  }
 },
 "nbformat": 4,
 "nbformat_minor": 2
}
